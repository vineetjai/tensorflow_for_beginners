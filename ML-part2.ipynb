{
 "cells": [
  {
   "cell_type": "code",
   "execution_count": 2,
   "metadata": {},
   "outputs": [],
   "source": [
    "import tensorflow as tf\n",
    "import numpy as np\n",
    "import pandas as pd\n",
    "from pandas import DataFrame as DF"
   ]
  },
  {
   "cell_type": "markdown",
   "metadata": {},
   "source": [
    "# Collect Data"
   ]
  },
  {
   "cell_type": "code",
   "execution_count": 3,
   "metadata": {},
   "outputs": [],
   "source": [
    "# Creating a Dataset\n",
    "np.random.seed(555)\n",
    "\n",
    "X1= np.random.normal(100,15,200).astype(int)\n",
    "X2= np.random.normal(10,4.5,200)\n",
    "X3=np.random.normal(32,4,200).astype(int)\n",
    "dob=np.datetime64('2017-10-31')-365*X3         \n",
    "b=5\n",
    "er=np.random.normal(0,1.5,200)\n",
    "\n",
    "Y= np.array([0.3*x1+1.5*x2+0.83*x3+b+e for x1,x2,x3,e in zip(X1,X2,X3,er)])"
   ]
  },
  {
   "cell_type": "code",
   "execution_count": 4,
   "metadata": {},
   "outputs": [
    {
     "data": {
      "text/plain": [
       "array(['1994-11-06', '1992-11-06', '1988-11-07', '1984-11-08',\n",
       "       '1981-11-09'], dtype='datetime64[D]')"
      ]
     },
     "execution_count": 4,
     "metadata": {},
     "output_type": "execute_result"
    }
   ],
   "source": [
    "dob[:5]"
   ]
  },
  {
   "cell_type": "code",
   "execution_count": 5,
   "metadata": {},
   "outputs": [
    {
     "data": {
      "text/plain": [
       "array([102, 105,  83, 103,  97])"
      ]
     },
     "execution_count": 5,
     "metadata": {},
     "output_type": "execute_result"
    }
   ],
   "source": [
    "X1[:5]"
   ]
  },
  {
   "cell_type": "code",
   "execution_count": 6,
   "metadata": {},
   "outputs": [
    {
     "data": {
      "text/plain": [
       "array([ 3.13466597, 15.2453711 ,  2.39108351,  9.60672057, 11.13461909])"
      ]
     },
     "execution_count": 6,
     "metadata": {},
     "output_type": "execute_result"
    }
   ],
   "source": [
    "X2[:5]"
   ]
  },
  {
   "cell_type": "code",
   "execution_count": 7,
   "metadata": {},
   "outputs": [
    {
     "data": {
      "text/plain": [
       "array([-0.72614499, -1.12823355,  0.00768172, -1.91621397,  1.86516392])"
      ]
     },
     "execution_count": 7,
     "metadata": {},
     "output_type": "execute_result"
    }
   ],
   "source": [
    "er[:5]"
   ]
  },
  {
   "cell_type": "markdown",
   "metadata": {},
   "source": [
    "# Data Cleaning"
   ]
  },
  {
   "cell_type": "code",
   "execution_count": 8,
   "metadata": {},
   "outputs": [],
   "source": [
    "cols=['iq','years_experience','dob']\n",
    "df =DF(list(zip(X1,X2,dob)),columns=cols)\n",
    "df['income']=Y"
   ]
  },
  {
   "cell_type": "code",
   "execution_count": 9,
   "metadata": {},
   "outputs": [
    {
     "data": {
      "text/html": [
       "<div>\n",
       "<style scoped>\n",
       "    .dataframe tbody tr th:only-of-type {\n",
       "        vertical-align: middle;\n",
       "    }\n",
       "\n",
       "    .dataframe tbody tr th {\n",
       "        vertical-align: top;\n",
       "    }\n",
       "\n",
       "    .dataframe thead th {\n",
       "        text-align: right;\n",
       "    }\n",
       "</style>\n",
       "<table border=\"1\" class=\"dataframe\">\n",
       "  <thead>\n",
       "    <tr style=\"text-align: right;\">\n",
       "      <th></th>\n",
       "      <th>iq</th>\n",
       "      <th>years_experience</th>\n",
       "      <th>dob</th>\n",
       "      <th>income</th>\n",
       "    </tr>\n",
       "  </thead>\n",
       "  <tbody>\n",
       "    <tr>\n",
       "      <th>0</th>\n",
       "      <td>102</td>\n",
       "      <td>3.134666</td>\n",
       "      <td>1994-11-06</td>\n",
       "      <td>58.665854</td>\n",
       "    </tr>\n",
       "    <tr>\n",
       "      <th>1</th>\n",
       "      <td>105</td>\n",
       "      <td>15.245371</td>\n",
       "      <td>1992-11-06</td>\n",
       "      <td>78.989823</td>\n",
       "    </tr>\n",
       "    <tr>\n",
       "      <th>2</th>\n",
       "      <td>83</td>\n",
       "      <td>2.391084</td>\n",
       "      <td>1988-11-07</td>\n",
       "      <td>57.564307</td>\n",
       "    </tr>\n",
       "    <tr>\n",
       "      <th>3</th>\n",
       "      <td>103</td>\n",
       "      <td>9.606721</td>\n",
       "      <td>1984-11-08</td>\n",
       "      <td>75.783867</td>\n",
       "    </tr>\n",
       "    <tr>\n",
       "      <th>4</th>\n",
       "      <td>97</td>\n",
       "      <td>11.134619</td>\n",
       "      <td>1981-11-09</td>\n",
       "      <td>82.547093</td>\n",
       "    </tr>\n",
       "  </tbody>\n",
       "</table>\n",
       "</div>"
      ],
      "text/plain": [
       "    iq  years_experience        dob     income\n",
       "0  102          3.134666 1994-11-06  58.665854\n",
       "1  105         15.245371 1992-11-06  78.989823\n",
       "2   83          2.391084 1988-11-07  57.564307\n",
       "3  103          9.606721 1984-11-08  75.783867\n",
       "4   97         11.134619 1981-11-09  82.547093"
      ]
     },
     "execution_count": 9,
     "metadata": {},
     "output_type": "execute_result"
    }
   ],
   "source": [
    "df.head()"
   ]
  },
  {
   "cell_type": "code",
   "execution_count": 10,
   "metadata": {},
   "outputs": [
    {
     "name": "stdout",
     "output_type": "stream",
     "text": [
      "<class 'pandas.core.frame.DataFrame'>\n",
      "RangeIndex: 200 entries, 0 to 199\n",
      "Data columns (total 4 columns):\n",
      "iq                  200 non-null int64\n",
      "years_experience    200 non-null float64\n",
      "dob                 200 non-null datetime64[ns]\n",
      "income              200 non-null float64\n",
      "dtypes: datetime64[ns](1), float64(2), int64(1)\n",
      "memory usage: 6.3 KB\n"
     ]
    }
   ],
   "source": [
    "df.info()"
   ]
  },
  {
   "cell_type": "code",
   "execution_count": 11,
   "metadata": {},
   "outputs": [
    {
     "data": {
      "text/html": [
       "<div>\n",
       "<style scoped>\n",
       "    .dataframe tbody tr th:only-of-type {\n",
       "        vertical-align: middle;\n",
       "    }\n",
       "\n",
       "    .dataframe tbody tr th {\n",
       "        vertical-align: top;\n",
       "    }\n",
       "\n",
       "    .dataframe thead th {\n",
       "        text-align: right;\n",
       "    }\n",
       "</style>\n",
       "<table border=\"1\" class=\"dataframe\">\n",
       "  <thead>\n",
       "    <tr style=\"text-align: right;\">\n",
       "      <th></th>\n",
       "      <th>iq</th>\n",
       "      <th>years_experience</th>\n",
       "      <th>income</th>\n",
       "    </tr>\n",
       "  </thead>\n",
       "  <tbody>\n",
       "    <tr>\n",
       "      <th>count</th>\n",
       "      <td>200.000000</td>\n",
       "      <td>200.000000</td>\n",
       "      <td>200.000000</td>\n",
       "    </tr>\n",
       "    <tr>\n",
       "      <th>mean</th>\n",
       "      <td>98.895000</td>\n",
       "      <td>9.708405</td>\n",
       "      <td>75.177962</td>\n",
       "    </tr>\n",
       "    <tr>\n",
       "      <th>std</th>\n",
       "      <td>14.991253</td>\n",
       "      <td>4.654536</td>\n",
       "      <td>8.889551</td>\n",
       "    </tr>\n",
       "    <tr>\n",
       "      <th>min</th>\n",
       "      <td>62.000000</td>\n",
       "      <td>-5.789565</td>\n",
       "      <td>49.467100</td>\n",
       "    </tr>\n",
       "    <tr>\n",
       "      <th>25%</th>\n",
       "      <td>88.500000</td>\n",
       "      <td>6.603565</td>\n",
       "      <td>69.391361</td>\n",
       "    </tr>\n",
       "    <tr>\n",
       "      <th>50%</th>\n",
       "      <td>99.000000</td>\n",
       "      <td>10.021919</td>\n",
       "      <td>75.180707</td>\n",
       "    </tr>\n",
       "    <tr>\n",
       "      <th>75%</th>\n",
       "      <td>108.250000</td>\n",
       "      <td>12.927809</td>\n",
       "      <td>80.739804</td>\n",
       "    </tr>\n",
       "    <tr>\n",
       "      <th>max</th>\n",
       "      <td>134.000000</td>\n",
       "      <td>21.889216</td>\n",
       "      <td>98.380710</td>\n",
       "    </tr>\n",
       "  </tbody>\n",
       "</table>\n",
       "</div>"
      ],
      "text/plain": [
       "               iq  years_experience      income\n",
       "count  200.000000        200.000000  200.000000\n",
       "mean    98.895000          9.708405   75.177962\n",
       "std     14.991253          4.654536    8.889551\n",
       "min     62.000000         -5.789565   49.467100\n",
       "25%     88.500000          6.603565   69.391361\n",
       "50%     99.000000         10.021919   75.180707\n",
       "75%    108.250000         12.927809   80.739804\n",
       "max    134.000000         21.889216   98.380710"
      ]
     },
     "execution_count": 11,
     "metadata": {},
     "output_type": "execute_result"
    }
   ],
   "source": [
    "df.describe()"
   ]
  },
  {
   "cell_type": "code",
   "execution_count": 12,
   "metadata": {},
   "outputs": [
    {
     "data": {
      "text/html": [
       "<div>\n",
       "<style scoped>\n",
       "    .dataframe tbody tr th:only-of-type {\n",
       "        vertical-align: middle;\n",
       "    }\n",
       "\n",
       "    .dataframe tbody tr th {\n",
       "        vertical-align: top;\n",
       "    }\n",
       "\n",
       "    .dataframe thead th {\n",
       "        text-align: right;\n",
       "    }\n",
       "</style>\n",
       "<table border=\"1\" class=\"dataframe\">\n",
       "  <thead>\n",
       "    <tr style=\"text-align: right;\">\n",
       "      <th></th>\n",
       "      <th>iq</th>\n",
       "      <th>years_experience</th>\n",
       "      <th>income</th>\n",
       "    </tr>\n",
       "  </thead>\n",
       "  <tbody>\n",
       "    <tr>\n",
       "      <th>count</th>\n",
       "      <td>196.000000</td>\n",
       "      <td>196.000000</td>\n",
       "      <td>196.000000</td>\n",
       "    </tr>\n",
       "    <tr>\n",
       "      <th>mean</th>\n",
       "      <td>98.959184</td>\n",
       "      <td>9.963718</td>\n",
       "      <td>75.603845</td>\n",
       "    </tr>\n",
       "    <tr>\n",
       "      <th>std</th>\n",
       "      <td>14.769628</td>\n",
       "      <td>4.332578</td>\n",
       "      <td>8.424493</td>\n",
       "    </tr>\n",
       "    <tr>\n",
       "      <th>min</th>\n",
       "      <td>62.000000</td>\n",
       "      <td>0.084480</td>\n",
       "      <td>54.325402</td>\n",
       "    </tr>\n",
       "    <tr>\n",
       "      <th>25%</th>\n",
       "      <td>88.500000</td>\n",
       "      <td>6.940314</td>\n",
       "      <td>69.619532</td>\n",
       "    </tr>\n",
       "    <tr>\n",
       "      <th>50%</th>\n",
       "      <td>99.000000</td>\n",
       "      <td>10.192384</td>\n",
       "      <td>75.327426</td>\n",
       "    </tr>\n",
       "    <tr>\n",
       "      <th>75%</th>\n",
       "      <td>108.250000</td>\n",
       "      <td>12.967590</td>\n",
       "      <td>80.798796</td>\n",
       "    </tr>\n",
       "    <tr>\n",
       "      <th>max</th>\n",
       "      <td>134.000000</td>\n",
       "      <td>21.889216</td>\n",
       "      <td>98.380710</td>\n",
       "    </tr>\n",
       "  </tbody>\n",
       "</table>\n",
       "</div>"
      ],
      "text/plain": [
       "               iq  years_experience      income\n",
       "count  196.000000        196.000000  196.000000\n",
       "mean    98.959184          9.963718   75.603845\n",
       "std     14.769628          4.332578    8.424493\n",
       "min     62.000000          0.084480   54.325402\n",
       "25%     88.500000          6.940314   69.619532\n",
       "50%     99.000000         10.192384   75.327426\n",
       "75%    108.250000         12.967590   80.798796\n",
       "max    134.000000         21.889216   98.380710"
      ]
     },
     "execution_count": 12,
     "metadata": {},
     "output_type": "execute_result"
    }
   ],
   "source": [
    "df =df[df.years_experience >=0]\n",
    "df.describe()"
   ]
  },
  {
   "cell_type": "markdown",
   "metadata": {},
   "source": [
    "# EDA"
   ]
  },
  {
   "cell_type": "code",
   "execution_count": 13,
   "metadata": {},
   "outputs": [
    {
     "data": {
      "text/html": [
       "<div>\n",
       "<style scoped>\n",
       "    .dataframe tbody tr th:only-of-type {\n",
       "        vertical-align: middle;\n",
       "    }\n",
       "\n",
       "    .dataframe tbody tr th {\n",
       "        vertical-align: top;\n",
       "    }\n",
       "\n",
       "    .dataframe thead th {\n",
       "        text-align: right;\n",
       "    }\n",
       "</style>\n",
       "<table border=\"1\" class=\"dataframe\">\n",
       "  <thead>\n",
       "    <tr style=\"text-align: right;\">\n",
       "      <th></th>\n",
       "      <th>dob</th>\n",
       "    </tr>\n",
       "  </thead>\n",
       "  <tbody>\n",
       "    <tr>\n",
       "      <th>count</th>\n",
       "      <td>196</td>\n",
       "    </tr>\n",
       "    <tr>\n",
       "      <th>unique</th>\n",
       "      <td>22</td>\n",
       "    </tr>\n",
       "    <tr>\n",
       "      <th>top</th>\n",
       "      <td>1986-11-08 00:00:00</td>\n",
       "    </tr>\n",
       "    <tr>\n",
       "      <th>freq</th>\n",
       "      <td>20</td>\n",
       "    </tr>\n",
       "    <tr>\n",
       "      <th>first</th>\n",
       "      <td>1975-11-11 00:00:00</td>\n",
       "    </tr>\n",
       "    <tr>\n",
       "      <th>last</th>\n",
       "      <td>1996-11-05 00:00:00</td>\n",
       "    </tr>\n",
       "  </tbody>\n",
       "</table>\n",
       "</div>"
      ],
      "text/plain": [
       "                        dob\n",
       "count                   196\n",
       "unique                   22\n",
       "top     1986-11-08 00:00:00\n",
       "freq                     20\n",
       "first   1975-11-11 00:00:00\n",
       "last    1996-11-05 00:00:00"
      ]
     },
     "execution_count": 13,
     "metadata": {},
     "output_type": "execute_result"
    }
   ],
   "source": [
    "df.describe(include=['datetime64'])"
   ]
  },
  {
   "cell_type": "code",
   "execution_count": 14,
   "metadata": {},
   "outputs": [
    {
     "data": {
      "text/plain": [
       "array([[<matplotlib.axes._subplots.AxesSubplot object at 0x124377470>,\n",
       "        <matplotlib.axes._subplots.AxesSubplot object at 0x1263c49e8>,\n",
       "        <matplotlib.axes._subplots.AxesSubplot object at 0x1263fbf98>],\n",
       "       [<matplotlib.axes._subplots.AxesSubplot object at 0x126437588>,\n",
       "        <matplotlib.axes._subplots.AxesSubplot object at 0x126469b38>,\n",
       "        <matplotlib.axes._subplots.AxesSubplot object at 0x1264a5128>],\n",
       "       [<matplotlib.axes._subplots.AxesSubplot object at 0x1264d56d8>,\n",
       "        <matplotlib.axes._subplots.AxesSubplot object at 0x126507cc0>,\n",
       "        <matplotlib.axes._subplots.AxesSubplot object at 0x126507cf8>]],\n",
       "      dtype=object)"
      ]
     },
     "execution_count": 14,
     "metadata": {},
     "output_type": "execute_result"
    },
    {
     "data": {
      "image/png": "[encoded data removed]",
      "text/plain": [
       "<Figure size 1152x648 with 9 Axes>"
      ]
     },
     "metadata": {
      "needs_background": "light"
     },
     "output_type": "display_data"
    }
   ],
   "source": [
    "import matplotlib.pyplot as plt\n",
    "%matplotlib inline\n",
    "\n",
    "pd.plotting.scatter_matrix(df,figsize=(16,9))"
   ]
  },
  {
   "cell_type": "code",
   "execution_count": 15,
   "metadata": {},
   "outputs": [
    {
     "data": {
      "text/plain": [
       "<matplotlib.axes._subplots.AxesSubplot at 0x1283acf60>"
      ]
     },
     "execution_count": 15,
     "metadata": {},
     "output_type": "execute_result"
    },
    {
     "data": {
      "image/png": "[encoded data removed]",
      "text/plain": [
       "<Figure size 1152x648 with 2 Axes>"
      ]
     },
     "metadata": {
      "needs_background": "light"
     },
     "output_type": "display_data"
    }
   ],
   "source": [
    "import seaborn as sns\n",
    "plt.figure(figsize=(16,9))\n",
    "sns.heatmap(df.corr())"
   ]
  },
  {
   "cell_type": "markdown",
   "metadata": {},
   "source": [
    "# Data Processing/ Feature Engineering"
   ]
  },
  {
   "cell_type": "code",
   "execution_count": 16,
   "metadata": {},
   "outputs": [
    {
     "data": {
      "text/html": [
       "<div>\n",
       "<style scoped>\n",
       "    .dataframe tbody tr th:only-of-type {\n",
       "        vertical-align: middle;\n",
       "    }\n",
       "\n",
       "    .dataframe tbody tr th {\n",
       "        vertical-align: top;\n",
       "    }\n",
       "\n",
       "    .dataframe thead th {\n",
       "        text-align: right;\n",
       "    }\n",
       "</style>\n",
       "<table border=\"1\" class=\"dataframe\">\n",
       "  <thead>\n",
       "    <tr style=\"text-align: right;\">\n",
       "      <th></th>\n",
       "      <th>iq</th>\n",
       "      <th>years_experience</th>\n",
       "      <th>income</th>\n",
       "      <th>age</th>\n",
       "    </tr>\n",
       "  </thead>\n",
       "  <tbody>\n",
       "    <tr>\n",
       "      <th>0</th>\n",
       "      <td>102</td>\n",
       "      <td>3.134666</td>\n",
       "      <td>58.665854</td>\n",
       "      <td>23.0</td>\n",
       "    </tr>\n",
       "    <tr>\n",
       "      <th>1</th>\n",
       "      <td>105</td>\n",
       "      <td>15.245371</td>\n",
       "      <td>78.989823</td>\n",
       "      <td>25.0</td>\n",
       "    </tr>\n",
       "    <tr>\n",
       "      <th>2</th>\n",
       "      <td>83</td>\n",
       "      <td>2.391084</td>\n",
       "      <td>57.564307</td>\n",
       "      <td>29.0</td>\n",
       "    </tr>\n",
       "    <tr>\n",
       "      <th>3</th>\n",
       "      <td>103</td>\n",
       "      <td>9.606721</td>\n",
       "      <td>75.783867</td>\n",
       "      <td>33.0</td>\n",
       "    </tr>\n",
       "    <tr>\n",
       "      <th>4</th>\n",
       "      <td>97</td>\n",
       "      <td>11.134619</td>\n",
       "      <td>82.547093</td>\n",
       "      <td>36.0</td>\n",
       "    </tr>\n",
       "  </tbody>\n",
       "</table>\n",
       "</div>"
      ],
      "text/plain": [
       "    iq  years_experience     income   age\n",
       "0  102          3.134666  58.665854  23.0\n",
       "1  105         15.245371  78.989823  25.0\n",
       "2   83          2.391084  57.564307  29.0\n",
       "3  103          9.606721  75.783867  33.0\n",
       "4   97         11.134619  82.547093  36.0"
      ]
     },
     "execution_count": 16,
     "metadata": {},
     "output_type": "execute_result"
    }
   ],
   "source": [
    "from datetime import datetime as dt\n",
    "\n",
    "df['age']=df.dob.apply(lambda x: (dt.strptime('2017-10-31','%Y-%m-%d')-x).days/365)\n",
    "df.drop('dob',axis=1,inplace=True)\n",
    "df.head()"
   ]
  },
  {
   "cell_type": "markdown",
   "metadata": {},
   "source": [
    "# Train/Evaluate Model"
   ]
  },
  {
   "cell_type": "code",
   "execution_count": 17,
   "metadata": {},
   "outputs": [],
   "source": [
    "\n",
    "X=df.iloc[:,[0,1,3]]\n",
    "Y=df.income\n",
    "\n",
    "tr_idx= X.sample(frac=0.67).index\n",
    "Xtr =X[X.index.isin(tr_idx)].values\n",
    "Xta=X[~X.index.isin(tr_idx)].values\n",
    "\n",
    "Ytr =Y[Y.index.isin(tr_idx)].values\n",
    "Yta=Y[~Y.index.isin(tr_idx)].values"
   ]
  },
  {
   "cell_type": "markdown",
   "metadata": {},
   "source": [
    "# Create Model\n",
    "\n",
    "### Getting Tesnsorboard summaries\n",
    "\n",
    "- create summaries\n",
    "- merge summaries\n",
    "- create a summary writer\n",
    "- run merged summaries with model in a session\n",
    "- use writer to write the output"
   ]
  },
  {
   "cell_type": "code",
   "execution_count": 18,
   "metadata": {},
   "outputs": [],
   "source": [
    "\n",
    "tf.reset_default_graph()"
   ]
  },
  {
   "cell_type": "code",
   "execution_count": 19,
   "metadata": {},
   "outputs": [
    {
     "name": "stdout",
     "output_type": "stream",
     "text": [
      "WARNING:tensorflow:From /Users/vineetjain/Desktop/tensorlfow_for_beginners/env1/lib/python3.6/site-packages/tensorflow/python/framework/op_def_library.py:263: colocate_with (from tensorflow.python.framework.ops) is deprecated and will be removed in a future version.\n",
      "Instructions for updating:\n",
      "Colocations handled automatically by placer.\n"
     ]
    }
   ],
   "source": [
    "sess=tf.Session()\n",
    "w = tf.get_variable(name='w',initializer=[[0.1],[0.1],[0.1]])\n",
    "tf.summary.scalar('wmean',tf.reduce_mean(w))\n",
    "tf.summary.scalar('wsum',tf.reduce_sum(w))\n",
    "tf.summary.histogram('weights',w)\n",
    "\n",
    "b= tf.get_variable(name='b',initializer=0.)\n",
    "tf.summary.histogram('intercept',b)\n",
    "\n",
    "x=tf.placeholder('float32',name='x')\n",
    "y=tf.placeholder('float32',name='y_true')\n",
    "\n",
    "yhat =tf.reshape(tf.matmul(x,w)+b,[-1,],name='yhat')"
   ]
  },
  {
   "cell_type": "markdown",
   "metadata": {},
   "source": [
    "# Create the loss and test score functions"
   ]
  },
  {
   "cell_type": "code",
   "execution_count": 20,
   "metadata": {},
   "outputs": [],
   "source": [
    "mse=tf.reduce_mean(tf.square(y - yhat),name='mse')\n",
    "rmse =tf.sqrt(mse,name='rmse')\n",
    "tf.summary.scalar('loss_rmse',rmse)\n",
    "\n",
    "#test_score\n",
    "test_nrmse =tf.divide(rmse,tf.abs(tf.reduce_mean(y)),name='nrmse')\n",
    "tf.summary.scalar('test_nrmse',test_nrmse)\n",
    "\n",
    "#merge all sumarries a create a writer object that will write during training\n",
    "summaries= tf.summary.merge_all()\n",
    "writer = tf.summary.FileWriter(logdir='/tmp/linear_logs',graph=sess.graph)"
   ]
  },
  {
   "cell_type": "code",
   "execution_count": 21,
   "metadata": {},
   "outputs": [],
   "source": [
    "init =tf.variables_initializer([w,b])\n",
    "sess.run(init)"
   ]
  },
  {
   "cell_type": "markdown",
   "metadata": {},
   "source": [
    "# Training/Evaluation"
   ]
  },
  {
   "cell_type": "code",
   "execution_count": 22,
   "metadata": {},
   "outputs": [
    {
     "name": "stdout",
     "output_type": "stream",
     "text": [
      "WARNING:tensorflow:From /Users/vineetjain/Desktop/tensorlfow_for_beginners/env1/lib/python3.6/site-packages/tensorflow/python/ops/math_ops.py:3066: to_int32 (from tensorflow.python.ops.math_ops) is deprecated and will be removed in a future version.\n",
      "Instructions for updating:\n",
      "Use tf.cast instead.\n",
      "Test NRMSE: 0.10212556272745132\n",
      "Test NRMSE: 0.08067382872104645\n",
      "Test NRMSE: 0.06304242461919785\n",
      "Test NRMSE: 0.07922762632369995\n",
      "Test NRMSE: 0.07429389655590057\n",
      "Test NRMSE: 0.0768253430724144\n",
      "Test NRMSE: 0.07478637248277664\n",
      "Test NRMSE: 0.07510600239038467\n",
      "Test NRMSE: 0.07534012943506241\n",
      "Test NRMSE: 0.0738837793469429\n",
      "Test NRMSE: 0.0757863000035286\n",
      "Test NRMSE: 0.07300514727830887\n",
      "Test NRMSE: 0.0761224702000618\n",
      "Test NRMSE: 0.07236886769533157\n",
      "Test NRMSE: 0.07637173682451248\n"
     ]
    }
   ],
   "source": [
    "opt=tf.train.GradientDescentOptimizer(learning_rate=0.001)\n",
    "train=opt.minimize(rmse)\n",
    "\n",
    "# for i in range(800):\n",
    "#     if(i%50==0) and (i>0):\n",
    "#         nrmse=sess.run(test_nrmse, {x:Xta,y:Yta})\n",
    "#         print('Test NRMSE: {}'.format(nrmse))\n",
    "#     else:\n",
    "#         sess.run(train,{x:Xtr,y:Ytr})\n",
    "\n",
    "for i in range(800):\n",
    "    if(i%50==0) and (i>0):\n",
    "        #Evaluation\n",
    "        smry, nrmse=sess.run([summaries,test_nrmse], {x:Xta,y:Yta})\n",
    "        writer.add_summary(smry,i)\n",
    "        print('Test NRMSE: {}'.format(nrmse))\n",
    "    else:\n",
    "        smry,_=sess.run([summaries,train],{x:Xtr,y:Ytr})\n",
    "        writer.add_summary(smry,i)"
   ]
  },
  {
   "cell_type": "code",
   "execution_count": 24,
   "metadata": {},
   "outputs": [
    {
     "data": {
      "text/plain": [
       "[array([[0.36643198],\n",
       "        [1.4265858 ],\n",
       "        [0.9569105 ]], dtype=float32), 0.02767626]"
      ]
     },
     "execution_count": 24,
     "metadata": {},
     "output_type": "execute_result"
    }
   ],
   "source": [
    "sess.run([w,b])"
   ]
  },
  {
   "cell_type": "code",
   "execution_count": null,
   "metadata": {},
   "outputs": [],
   "source": []
  },
  {
   "cell_type": "code",
   "execution_count": null,
   "metadata": {},
   "outputs": [],
   "source": []
  }
 ],
 "metadata": {
  "kernelspec": {
   "display_name": "Python 3",
   "language": "python",
   "name": "python3"
  },
  "language_info": {
   "codemirror_mode": {
    "name": "ipython",
    "version": 3
   },
   "file_extension": ".py",
   "mimetype": "text/x-python",
   "name": "python",
   "nbconvert_exporter": "python",
   "pygments_lexer": "ipython3",
   "version": "3.6.5"
  }
 },
 "nbformat": 4,
 "nbformat_minor": 2
}
